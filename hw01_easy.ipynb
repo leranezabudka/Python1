{
 "cells": [
  {
   "cell_type": "code",
   "execution_count": 2,
   "metadata": {},
   "outputs": [
    {
     "name": "stdout",
     "output_type": "stream",
     "text": [
      "3\n",
      "4\n",
      "6\n",
      "2\n",
      "3\n",
      "5\n",
      "4\n",
      "Input a: 4\n",
      "Input b: 5\n",
      "a =  5 b =  4\n",
      "Input your age: 36\n",
      "Access is allowed\n"
     ]
    }
   ],
   "source": [
    "__author__ = 'Погодина Валерия Сергеевна'\n",
    "\n",
    "# Задача-1: Дано произвольное целое число, вывести поочередно цифры исходного числа\n",
    "\n",
    "number = 3462354\n",
    "\n",
    "for i in str(number):\n",
    "    print(i)\n",
    "\n",
    "# Задача-2: Исходные значения двух переменных запросить у пользователя.\n",
    "# Поменять значения переменных местами. Вывести новые значения на экран.\n",
    "# Не нужно решать задачу так:\n",
    "# print(\"a = \", b, \"b = \", a) - это неправильное решение!\n",
    "a = input(\"Input a: \")\n",
    "b = input(\"Input b: \")\n",
    "c = a\n",
    "a = b\n",
    "b = c\n",
    "print(\"a = \", a, \"b = \", b)\n",
    "\n",
    "\n",
    "# Задача-3: Запросите у пользователя его возраст.\n",
    "# Если ему есть 18 лет, выведите: \"Доступ разрешен\",\n",
    "# иначе \"Извините, пользование данным ресурсом только с 18 лет\"\n",
    "age = int(input(\"Input your age: \"))\n",
    "if age >= 18:\n",
    "    print(\"Access is allowed\")\n",
    "else:\n",
    "    print(\"Sorry, use of this resource is only from 18 years of age\")\n",
    "    \n",
    "\n",
    "\n"
   ]
  },
  {
   "cell_type": "code",
   "execution_count": null,
   "metadata": {},
   "outputs": [],
   "source": []
  }
 ],
 "metadata": {
  "kernelspec": {
   "display_name": "Python 3",
   "language": "python",
   "name": "python3"
  },
  "language_info": {
   "codemirror_mode": {
    "name": "ipython",
    "version": 3
   },
   "file_extension": ".py",
   "mimetype": "text/x-python",
   "name": "python",
   "nbconvert_exporter": "python",
   "pygments_lexer": "ipython3",
   "version": "3.6.4"
  }
 },
 "nbformat": 4,
 "nbformat_minor": 2
}
