{
 "cells": [
  {
   "cell_type": "code",
   "execution_count": 3,
   "metadata": {},
   "outputs": [
    {
     "name": "stdout",
     "output_type": "stream",
     "text": [
      "8\n",
      "Input a: 1\n",
      "Input b: 2\n",
      "a =  2 b =  1\n",
      "x1 =  3.0 x2 =  2.0\n"
     ]
    }
   ],
   "source": [
    "__author__ = 'Погодина Валерия Сергеевна'\n",
    "\n",
    "# Задача-1: Дано произвольное целое число, вывести самую большую цифру этого числа.\n",
    "# Например, дается x = 58375.\n",
    "# Нужно вывести максимальную цифру в данном числе, т.е. 8.\n",
    "# Подразумевается, что мы не знаем это число заранее.\n",
    "# Число приходит в виде целого беззнакового.\n",
    "x = 58375\n",
    "y = str(x)\n",
    "z=sorted(y)\n",
    "print(z[-1])\n",
    "\n",
    "\n",
    "# Задача-2: Исходные значения двух переменных запросить у пользователя.\n",
    "# Поменять значения переменных местами. Вывести новые значения на экран.\n",
    "# Решите задачу, используя только две переменные.\n",
    "\n",
    "a = input(\"Input a: \")\n",
    "b = input(\"Input b: \")\n",
    "a, b = b, a\n",
    "print(\"a = \", a, \"b = \", b)\n",
    "\n",
    "\n",
    "# Задача-3: Напишите программу, вычисляющую корни квадратного уравнения вида\n",
    "# ax2 + bx + c = 0.\n",
    "# Для вычисления квадратного корня воспользуйтесь функцией sqrt() модуля math\n",
    "# import math\n",
    "# math.sqrt(4) - вычисляет корень числа 4\n",
    "import math\n",
    "\n",
    "a = 1\n",
    "b = -5\n",
    "c = 6\n",
    "\n",
    "D = b**2 - 4 * a * c\n",
    "x1 = (- b + math.sqrt(D))/2/a\n",
    "x2 = (- b - math.sqrt(D))/2/a\n",
    "\n",
    "print(\"x1 = \", x1, \"x2 = \", x2)"
   ]
  },
  {
   "cell_type": "code",
   "execution_count": null,
   "metadata": {},
   "outputs": [],
   "source": []
  },
  {
   "cell_type": "code",
   "execution_count": null,
   "metadata": {},
   "outputs": [],
   "source": []
  }
 ],
 "metadata": {
  "kernelspec": {
   "display_name": "Python 3",
   "language": "python",
   "name": "python3"
  },
  "language_info": {
   "codemirror_mode": {
    "name": "ipython",
    "version": 3
   },
   "file_extension": ".py",
   "mimetype": "text/x-python",
   "name": "python",
   "nbconvert_exporter": "python",
   "pygments_lexer": "ipython3",
   "version": "3.6.4"
  }
 },
 "nbformat": 4,
 "nbformat_minor": 2
}
